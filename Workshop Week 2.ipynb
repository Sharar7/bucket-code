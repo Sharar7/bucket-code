{
  "metadata": {
    "kernelspec": {
      "name": "python",
      "display_name": "Python (Pyodide)",
      "language": "python"
    },
    "language_info": {
      "codemirror_mode": {
        "name": "python",
        "version": 3
      },
      "file_extension": ".py",
      "mimetype": "text/x-python",
      "name": "python",
      "nbconvert_exporter": "python",
      "pygments_lexer": "ipython3",
      "version": "3.8"
    }
  },
  "nbformat_minor": 4,
  "nbformat": 4,
  "cells": [
    {
      "cell_type": "markdown",
      "source": "The goal this week is to pratice using Markdown to write descriptive text in notebooks and then look at Python data structures including the pandas module that supports data structures designed for handling the kind of data we'll be working with.  \n\nThere is probably too much work to complete here in the workshop session, but please use this notebook after the workshop to practice your Python.  Remember to commit your changes to git as you go and push back to Github when you are done.",
      "metadata": {}
    },
    {
      "cell_type": "code",
      "source": "student_name = \"Raiyan\"\nstudent_id = \"48378216\"",
      "metadata": {
        "trusted": true
      },
      "outputs": [],
      "execution_count": 34
    },
    {
      "cell_type": "markdown",
      "source": "## Markdown Practice\n\nComplete this section as per the instructions in the iLearn practical page.  Add the required cells below this one.",
      "metadata": {}
    },
    {
      "cell_type": "markdown",
      "source": "## Lists and Dictionaries\n\nFirst we look at some built in Python data structures: lists and dictionaries. \n\nA list is a sequence of things, unlike strongly typed languages (Java, C#) a list can contain a mixture of different types - there is no type for a list of integers or a list of lists.   Here are some lists:",
      "metadata": {}
    },
    {
      "cell_type": "code",
      "source": "ages = [12, 99, 51, 3, 55]\nnames = ['steve', 'jim', 'mary', 'carrie', 'zin']\nstuff = [12, 'eighteen', 6, ['another', 'list']]",
      "metadata": {
        "trusted": true
      },
      "outputs": [],
      "execution_count": 35
    },
    {
      "cell_type": "markdown",
      "source": "1. write code to print the first and third elements of each list\n2. write code to select and print everything except the first element of each list\n3. write a for loop that prints each element of the 'names' list",
      "metadata": {}
    },
    {
      "cell_type": "code",
      "source": "stuff[1:]\nfor name in names :\n    print(name)",
      "metadata": {
        "trusted": true
      },
      "outputs": [
        {
          "name": "stdout",
          "text": "steve\njim\nmary\ncarrie\nzin\n",
          "output_type": "stream"
        }
      ],
      "execution_count": 36
    },
    {
      "cell_type": "markdown",
      "source": "A dictionary is an associative array - it associates a value (any Python data type) with a key. The key is usually a string but can be any immutable type (string, number, tuple).  Here's some code that counts the occurence of words in a string.  It stores the count for each word in a dictionary using the word as a key. If the word is already stored in the dictionary, it adds one to the count, if not, it initialises the count to one.  \n\nThe second for loop iterates over the keys in the dictionary and prints one line per entry.\n\nModify this example to be a bit smarter:\n- make sure that punctuation characters are not included as parts of a word, be careful with hyphens - should they be included or not?\n- make the count use the lowercase version of a word, so that 'The' and 'the' are counted as the same word\n- **Challenge**: find the first and second most frequent words in the text\n- **Challenge**: take your code and write it as a function that takes a string and returns a list of words with their counts in order",
      "metadata": {}
    },
    {
      "cell_type": "code",
      "source": "description = \"\"\"This unit introduces students to the fundamental techniques and \ntools of data science, such as the graphical display of data, \npredictive models, evaluation methodologies, regression, \nclassification and clustering. The unit provides practical \nexperience applying these methods using industry-standard \nsoftware tools to real-world data sets. Students who have \ncompleted this unit will be able to identify which data \nscience methods are most appropriate for a real-world data \nset, apply these methods to the data set, and interpret the \nresults of the analysis they have performed. \"\"\"\n\ncount = dict()\nfor word in description.split():\n    if word in count:\n        count[word] += 1\n    else:\n        count[word] = 1\n        \nfor word in count:\n    print(word, count[word])",
      "metadata": {
        "trusted": true
      },
      "outputs": [
        {
          "name": "stdout",
          "text": "This 1\nunit 3\nintroduces 1\nstudents 1\nto 4\nthe 5\nfundamental 1\ntechniques 1\nand 3\ntools 2\nof 3\ndata 5\nscience, 1\nsuch 1\nas 1\ngraphical 1\ndisplay 1\ndata, 1\npredictive 1\nmodels, 1\nevaluation 1\nmethodologies, 1\nregression, 1\nclassification 1\nclustering. 1\nThe 1\nprovides 1\npractical 1\nexperience 1\napplying 1\nthese 2\nmethods 3\nusing 1\nindustry-standard 1\nsoftware 1\nreal-world 2\nsets. 1\nStudents 1\nwho 1\nhave 2\ncompleted 1\nthis 1\nwill 1\nbe 1\nable 1\nidentify 1\nwhich 1\nscience 1\nare 1\nmost 1\nappropriate 1\nfor 1\na 1\nset, 2\napply 1\ninterpret 1\nresults 1\nanalysis 1\nthey 1\nperformed. 1\n",
          "output_type": "stream"
        }
      ],
      "execution_count": 44
    },
    {
      "cell_type": "code",
      "source": "import re \ndesc = re.sub(r'[,\\.]','',description)\nprint(desc)",
      "metadata": {
        "trusted": true,
        "scrolled": true
      },
      "outputs": [
        {
          "name": "stdout",
          "text": "This unit introduces students to the fundamental techniques and \ntools of data science such as the graphical display of data \npredictive models evaluation methodologies regression \nclassification and clustering The unit provides practical \nexperience applying these methods using industry-standard \nsoftware tools to real-world data sets Students who have \ncompleted this unit will be able to identify which data \nscience methods are most appropriate for a real-world data \nset apply these methods to the data set and interpret the \nresults of the analysis they have performed \n",
          "output_type": "stream"
        }
      ],
      "execution_count": 45
    },
    {
      "cell_type": "code",
      "source": "from collections import Counter\nc = Counter(desc.split())\nc_list= list(c)\nprint(c_list[0]+\",\"+c_list[1])\nprint(c.most_common(2))\n",
      "metadata": {
        "trusted": true
      },
      "outputs": [
        {
          "name": "stdout",
          "text": "This,unit\n[('data', 6), ('the', 5)]\n",
          "output_type": "stream"
        }
      ],
      "execution_count": 46
    },
    {
      "cell_type": "markdown",
      "source": "## Pandas Data Frames\n\n[Pandas](https://pandas.pydata.org) is a Python module that provides some important data structures for Data Science work and a large collection of methods for data analysis. \n\nThe two main data structures are the [Series]() and [DataFrame](http://pandas.pydata.org/pandas-docs/stable/dsintro.html#dataframe).  \n\nA Series is a one dimensional array of data, but unlike the Python list the data is indexed - the index is like the dictionary key, any immutable value like a number or string.  You can use the label to select elements from the series as well as positional values.  \n\nA DataFrame is analogous to a spreadsheet - a two dimensional table of data with indexed rows and named columns. \n\nYou should read up on these and follow the examples in the text.  Here are a few exercises to complete with data frames.",
      "metadata": {}
    },
    {
      "cell_type": "markdown",
      "source": "You are given three csv files containing sample data.",
      "metadata": {}
    },
    {
      "cell_type": "code",
      "source": "import pandas as pd\nimport numpy as np\nimport matplotlib.pyplot as plt\n%matplotlib inline\n#E:\\Data Science\\Comp6200\nds1 = 'ds1.csv'\nds2 = 'ds2.csv'\nds3 = 'ds3.csv'",
      "metadata": {
        "trusted": true
      },
      "outputs": [],
      "execution_count": 47
    },
    {
      "cell_type": "markdown",
      "source": "Write code below to read one of these data files into a pandas data frame and:\n- show the first few rows: .head\n- find the summary data for each column: .describe\n- select just those rows where the value of x and y is over 50\n- select the column 'x' and create a series\n- plot the 'x' series as a line graph\n- plot the dataframe as a scatterplot\n\nOnce you have the code for this, you can change the file you use for input of the data (ds2, ds3) and re-run the following cells to see the different output that is generated",
      "metadata": {}
    },
    {
      "cell_type": "code",
      "source": "df1 = pd.read_csv(ds1)\ndf2 = pd.read_csv(ds2)\ndf3 = pd.read_csv(ds3)\nprint (df1.shape)\nprint (df2.shape)\nprint (df3.shape)",
      "metadata": {
        "trusted": true
      },
      "outputs": [
        {
          "name": "stdout",
          "text": "(142, 2)\n(142, 2)\n(142, 2)\n",
          "output_type": "stream"
        }
      ],
      "execution_count": 16
    },
    {
      "cell_type": "code",
      "source": "print(\"Data frame 1\\n\",df1.head(10))",
      "metadata": {
        "trusted": true
      },
      "outputs": [
        {
          "name": "stdout",
          "text": "Data frame 1\n          x        y\n0  55.3846  97.1795\n1  51.5385  96.0256\n2  46.1538  94.4872\n3  42.8205  91.4103\n4  40.7692  88.3333\n5  38.7179  84.8718\n6  35.6410  79.8718\n7  33.0769  77.5641\n8  28.9744  74.4872\n9  26.1538  71.4103\n",
          "output_type": "stream"
        }
      ],
      "execution_count": 18
    },
    {
      "cell_type": "code",
      "source": "over50_df1 = df1[(df1['x'] > 50) & (df1['y'] > 50)]\nprint(over50_df1)",
      "metadata": {
        "trusted": true
      },
      "outputs": [
        {
          "name": "stdout",
          "text": "          x        y\n0   55.3846  97.1795\n1   51.5385  96.0256\n22  53.0769  55.6410\n23  56.6667  56.0256\n24  59.2308  57.9487\n25  61.2821  62.1795\n26  61.5385  66.4103\n27  61.7949  69.1026\n28  57.4359  55.2564\n60  70.5128  53.7180\n61  71.5385  60.6410\n62  71.5385  64.4872\n63  69.4872  69.4872\n67  53.0769  85.2564\n68  55.3846  86.0256\n69  56.6667  86.0256\n70  56.1538  82.9487\n71  53.8462  80.6410\n72  51.2821  78.7180\n78  57.9487  99.4872\n79  61.7949  99.1026\n80  64.8718  97.5641\n81  68.4615  94.1026\n82  70.7692  91.0256\n83  72.0513  86.4103\n84  73.8462  83.3333\n85  75.1282  79.1026\n86  76.6667  75.2564\n87  77.6923  71.4103\n88  79.7436  66.7949\n89  81.7949  60.2564\n90  83.3333  55.2564\n91  85.1282  51.4103\n",
          "output_type": "stream"
        }
      ],
      "execution_count": 19
    },
    {
      "cell_type": "code",
      "source": "df1_series = df1['x']\nprint(df1_series)",
      "metadata": {
        "trusted": true,
        "scrolled": true
      },
      "outputs": [
        {
          "name": "stdout",
          "text": "0      55.3846\n1      51.5385\n2      46.1538\n3      42.8205\n4      40.7692\n        ...   \n137    39.4872\n138    91.2821\n139    50.0000\n140    47.9487\n141    44.1026\nName: x, Length: 142, dtype: float64\n",
          "output_type": "stream"
        }
      ],
      "execution_count": 26
    },
    {
      "cell_type": "code",
      "source": "df1.plot.scatter(x='x',y='y', s=50,c='green')",
      "metadata": {
        "trusted": true
      },
      "outputs": [
        {
          "execution_count": 27,
          "output_type": "execute_result",
          "data": {
            "text/plain": "<AxesSubplot:xlabel='x', ylabel='y'>"
          },
          "metadata": {}
        },
        {
          "output_type": "display_data",
          "data": {
            "text/plain": "<Figure size 640x480 with 1 Axes>",
            "image/png": "[encoded data removed]"
          },
          "metadata": {}
        }
      ],
      "execution_count": 27
    },
    {
      "cell_type": "markdown",
      "source": "## Checkpoint\n\nCongratulations! you have finished the required task for Week 2. Since you got this empty (without your code and output) notebook by downloading from iLearn, place this notebook (Workshop Week 2.ipynb) into your local copy of your Github repository (e.g. practical-workshops-sonitsingh)and commit your work with a suitable commit message and push your changes back to your Github repository. Show your tutor your updated Github repository to get your checkpoint mark.",
      "metadata": {}
    },
    {
      "cell_type": "markdown",
      "source": "# Further Practice\n\nIf you finish this task you can practice more with pandas data frames by following the examples in the text, section 2.6.  The CSV file that they use in that section is available in the `files` directory of this repository as `educ_figdp_1_Data.csv`.   ",
      "metadata": {}
    },
    {
      "cell_type": "code",
      "source": "edufile = 'files/educ_figdp_1_Data.csv'",
      "metadata": {},
      "outputs": [],
      "execution_count": null
    }
  ]
}